{
 "cells": [
  {
   "cell_type": "code",
   "execution_count": 1,
   "id": "8e9bdc8e-d4a2-4b73-916d-6e9af8950463",
   "metadata": {},
   "outputs": [],
   "source": [
    "!mkdir gan\n",
    "!cd gan"
   ]
  },
  {
   "cell_type": "code",
   "execution_count": null,
   "id": "f700aaa3-5cea-43d1-88a1-67a8c064e215",
   "metadata": {},
   "outputs": [],
   "source": [
    "python3 -m venv venv\n",
    "source venv/bin/activate"
   ]
  }
 ],
 "metadata": {
  "kernelspec": {
   "display_name": "Python 3",
   "language": "python",
   "name": "python3"
  },
  "language_info": {
   "codemirror_mode": {
    "name": "ipython",
    "version": 3
   },
   "file_extension": ".py",
   "mimetype": "text/x-python",
   "name": "python",
   "nbconvert_exporter": "python",
   "pygments_lexer": "ipython3",
   "version": "3.6.9"
  }
 },
 "nbformat": 4,
 "nbformat_minor": 5
}
